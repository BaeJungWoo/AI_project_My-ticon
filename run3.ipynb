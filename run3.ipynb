{
  "cells": [
    {
      "cell_type": "code",
      "execution_count": 1,
      "metadata": {
        "colab": {
          "base_uri": "https://localhost:8080/"
        },
        "id": "cFqhBDkkNXGV",
        "outputId": "08d68e31-0286-4e72-a26a-737887447207"
      },
      "outputs": [
        {
          "output_type": "stream",
          "name": "stdout",
          "text": [
            "Looking in indexes: https://pypi.org/simple, https://us-python.pkg.dev/colab-wheels/public/simple/\n",
            "Requirement already satisfied: emoji==0.6.0 in /usr/local/lib/python3.10/dist-packages (0.6.0)\n",
            "Looking in indexes: https://pypi.org/simple, https://us-python.pkg.dev/colab-wheels/public/simple/\n",
            "Requirement already satisfied: transformers in /usr/local/lib/python3.10/dist-packages (4.29.2)\n",
            "Requirement already satisfied: filelock in /usr/local/lib/python3.10/dist-packages (from transformers) (3.12.0)\n",
            "Requirement already satisfied: huggingface-hub<1.0,>=0.14.1 in /usr/local/lib/python3.10/dist-packages (from transformers) (0.14.1)\n",
            "Requirement already satisfied: numpy>=1.17 in /usr/local/lib/python3.10/dist-packages (from transformers) (1.22.4)\n",
            "Requirement already satisfied: packaging>=20.0 in /usr/local/lib/python3.10/dist-packages (from transformers) (23.1)\n",
            "Requirement already satisfied: pyyaml>=5.1 in /usr/local/lib/python3.10/dist-packages (from transformers) (6.0)\n",
            "Requirement already satisfied: regex!=2019.12.17 in /usr/local/lib/python3.10/dist-packages (from transformers) (2022.10.31)\n",
            "Requirement already satisfied: requests in /usr/local/lib/python3.10/dist-packages (from transformers) (2.27.1)\n",
            "Requirement already satisfied: tokenizers!=0.11.3,<0.14,>=0.11.1 in /usr/local/lib/python3.10/dist-packages (from transformers) (0.13.3)\n",
            "Requirement already satisfied: tqdm>=4.27 in /usr/local/lib/python3.10/dist-packages (from transformers) (4.65.0)\n",
            "Requirement already satisfied: fsspec in /usr/local/lib/python3.10/dist-packages (from huggingface-hub<1.0,>=0.14.1->transformers) (2023.4.0)\n",
            "Requirement already satisfied: typing-extensions>=3.7.4.3 in /usr/local/lib/python3.10/dist-packages (from huggingface-hub<1.0,>=0.14.1->transformers) (4.5.0)\n",
            "Requirement already satisfied: urllib3<1.27,>=1.21.1 in /usr/local/lib/python3.10/dist-packages (from requests->transformers) (1.26.15)\n",
            "Requirement already satisfied: certifi>=2017.4.17 in /usr/local/lib/python3.10/dist-packages (from requests->transformers) (2022.12.7)\n",
            "Requirement already satisfied: charset-normalizer~=2.0.0 in /usr/local/lib/python3.10/dist-packages (from requests->transformers) (2.0.12)\n",
            "Requirement already satisfied: idna<4,>=2.5 in /usr/local/lib/python3.10/dist-packages (from requests->transformers) (3.4)\n",
            "Looking in indexes: https://pypi.org/simple, https://us-python.pkg.dev/colab-wheels/public/simple/\n",
            "Requirement already satisfied: soynlp in /usr/local/lib/python3.10/dist-packages (0.0.493)\n",
            "Requirement already satisfied: numpy>=1.12.1 in /usr/local/lib/python3.10/dist-packages (from soynlp) (1.22.4)\n",
            "Requirement already satisfied: psutil>=5.0.1 in /usr/local/lib/python3.10/dist-packages (from soynlp) (5.9.5)\n",
            "Requirement already satisfied: scipy>=1.1.0 in /usr/local/lib/python3.10/dist-packages (from soynlp) (1.10.1)\n",
            "Requirement already satisfied: scikit-learn>=0.20.0 in /usr/local/lib/python3.10/dist-packages (from soynlp) (1.2.2)\n",
            "Requirement already satisfied: joblib>=1.1.1 in /usr/local/lib/python3.10/dist-packages (from scikit-learn>=0.20.0->soynlp) (1.2.0)\n",
            "Requirement already satisfied: threadpoolctl>=2.0.0 in /usr/local/lib/python3.10/dist-packages (from scikit-learn>=0.20.0->soynlp) (3.1.0)\n",
            "Looking in indexes: https://pypi.org/simple, https://us-python.pkg.dev/colab-wheels/public/simple/\n",
            "Requirement already satisfied: pytorch_lightning in /usr/local/lib/python3.10/dist-packages (2.0.2)\n",
            "Requirement already satisfied: numpy>=1.17.2 in /usr/local/lib/python3.10/dist-packages (from pytorch_lightning) (1.22.4)\n",
            "Requirement already satisfied: torch>=1.11.0 in /usr/local/lib/python3.10/dist-packages (from pytorch_lightning) (2.0.1+cu118)\n",
            "Requirement already satisfied: tqdm>=4.57.0 in /usr/local/lib/python3.10/dist-packages (from pytorch_lightning) (4.65.0)\n",
            "Requirement already satisfied: PyYAML>=5.4 in /usr/local/lib/python3.10/dist-packages (from pytorch_lightning) (6.0)\n",
            "Requirement already satisfied: fsspec[http]>2021.06.0 in /usr/local/lib/python3.10/dist-packages (from pytorch_lightning) (2023.4.0)\n",
            "Requirement already satisfied: torchmetrics>=0.7.0 in /usr/local/lib/python3.10/dist-packages (from pytorch_lightning) (0.11.4)\n",
            "Requirement already satisfied: packaging>=17.1 in /usr/local/lib/python3.10/dist-packages (from pytorch_lightning) (23.1)\n",
            "Requirement already satisfied: typing-extensions>=4.0.0 in /usr/local/lib/python3.10/dist-packages (from pytorch_lightning) (4.5.0)\n",
            "Requirement already satisfied: lightning-utilities>=0.7.0 in /usr/local/lib/python3.10/dist-packages (from pytorch_lightning) (0.8.0)\n",
            "Requirement already satisfied: requests in /usr/local/lib/python3.10/dist-packages (from fsspec[http]>2021.06.0->pytorch_lightning) (2.27.1)\n",
            "Requirement already satisfied: aiohttp!=4.0.0a0,!=4.0.0a1 in /usr/local/lib/python3.10/dist-packages (from fsspec[http]>2021.06.0->pytorch_lightning) (3.8.4)\n",
            "Requirement already satisfied: filelock in /usr/local/lib/python3.10/dist-packages (from torch>=1.11.0->pytorch_lightning) (3.12.0)\n",
            "Requirement already satisfied: sympy in /usr/local/lib/python3.10/dist-packages (from torch>=1.11.0->pytorch_lightning) (1.11.1)\n",
            "Requirement already satisfied: networkx in /usr/local/lib/python3.10/dist-packages (from torch>=1.11.0->pytorch_lightning) (3.1)\n",
            "Requirement already satisfied: jinja2 in /usr/local/lib/python3.10/dist-packages (from torch>=1.11.0->pytorch_lightning) (3.1.2)\n",
            "Requirement already satisfied: triton==2.0.0 in /usr/local/lib/python3.10/dist-packages (from torch>=1.11.0->pytorch_lightning) (2.0.0)\n",
            "Requirement already satisfied: cmake in /usr/local/lib/python3.10/dist-packages (from triton==2.0.0->torch>=1.11.0->pytorch_lightning) (3.25.2)\n",
            "Requirement already satisfied: lit in /usr/local/lib/python3.10/dist-packages (from triton==2.0.0->torch>=1.11.0->pytorch_lightning) (16.0.5)\n",
            "Requirement already satisfied: attrs>=17.3.0 in /usr/local/lib/python3.10/dist-packages (from aiohttp!=4.0.0a0,!=4.0.0a1->fsspec[http]>2021.06.0->pytorch_lightning) (23.1.0)\n",
            "Requirement already satisfied: charset-normalizer<4.0,>=2.0 in /usr/local/lib/python3.10/dist-packages (from aiohttp!=4.0.0a0,!=4.0.0a1->fsspec[http]>2021.06.0->pytorch_lightning) (2.0.12)\n",
            "Requirement already satisfied: multidict<7.0,>=4.5 in /usr/local/lib/python3.10/dist-packages (from aiohttp!=4.0.0a0,!=4.0.0a1->fsspec[http]>2021.06.0->pytorch_lightning) (6.0.4)\n",
            "Requirement already satisfied: async-timeout<5.0,>=4.0.0a3 in /usr/local/lib/python3.10/dist-packages (from aiohttp!=4.0.0a0,!=4.0.0a1->fsspec[http]>2021.06.0->pytorch_lightning) (4.0.2)\n",
            "Requirement already satisfied: yarl<2.0,>=1.0 in /usr/local/lib/python3.10/dist-packages (from aiohttp!=4.0.0a0,!=4.0.0a1->fsspec[http]>2021.06.0->pytorch_lightning) (1.9.2)\n",
            "Requirement already satisfied: frozenlist>=1.1.1 in /usr/local/lib/python3.10/dist-packages (from aiohttp!=4.0.0a0,!=4.0.0a1->fsspec[http]>2021.06.0->pytorch_lightning) (1.3.3)\n",
            "Requirement already satisfied: aiosignal>=1.1.2 in /usr/local/lib/python3.10/dist-packages (from aiohttp!=4.0.0a0,!=4.0.0a1->fsspec[http]>2021.06.0->pytorch_lightning) (1.3.1)\n",
            "Requirement already satisfied: MarkupSafe>=2.0 in /usr/local/lib/python3.10/dist-packages (from jinja2->torch>=1.11.0->pytorch_lightning) (2.1.2)\n",
            "Requirement already satisfied: urllib3<1.27,>=1.21.1 in /usr/local/lib/python3.10/dist-packages (from requests->fsspec[http]>2021.06.0->pytorch_lightning) (1.26.15)\n",
            "Requirement already satisfied: certifi>=2017.4.17 in /usr/local/lib/python3.10/dist-packages (from requests->fsspec[http]>2021.06.0->pytorch_lightning) (2022.12.7)\n",
            "Requirement already satisfied: idna<4,>=2.5 in /usr/local/lib/python3.10/dist-packages (from requests->fsspec[http]>2021.06.0->pytorch_lightning) (3.4)\n",
            "Requirement already satisfied: mpmath>=0.19 in /usr/local/lib/python3.10/dist-packages (from sympy->torch>=1.11.0->pytorch_lightning) (1.3.0)\n",
            "Looking in indexes: https://pypi.org/simple, https://us-python.pkg.dev/colab-wheels/public/simple/\n",
            "Requirement already satisfied: sentence_transformers in /usr/local/lib/python3.10/dist-packages (2.2.2)\n",
            "Requirement already satisfied: transformers<5.0.0,>=4.6.0 in /usr/local/lib/python3.10/dist-packages (from sentence_transformers) (4.29.2)\n",
            "Requirement already satisfied: tqdm in /usr/local/lib/python3.10/dist-packages (from sentence_transformers) (4.65.0)\n",
            "Requirement already satisfied: torch>=1.6.0 in /usr/local/lib/python3.10/dist-packages (from sentence_transformers) (2.0.1+cu118)\n",
            "Requirement already satisfied: torchvision in /usr/local/lib/python3.10/dist-packages (from sentence_transformers) (0.15.2+cu118)\n",
            "Requirement already satisfied: numpy in /usr/local/lib/python3.10/dist-packages (from sentence_transformers) (1.22.4)\n",
            "Requirement already satisfied: scikit-learn in /usr/local/lib/python3.10/dist-packages (from sentence_transformers) (1.2.2)\n",
            "Requirement already satisfied: scipy in /usr/local/lib/python3.10/dist-packages (from sentence_transformers) (1.10.1)\n",
            "Requirement already satisfied: nltk in /usr/local/lib/python3.10/dist-packages (from sentence_transformers) (3.8.1)\n",
            "Requirement already satisfied: sentencepiece in /usr/local/lib/python3.10/dist-packages (from sentence_transformers) (0.1.99)\n",
            "Requirement already satisfied: huggingface-hub>=0.4.0 in /usr/local/lib/python3.10/dist-packages (from sentence_transformers) (0.14.1)\n",
            "Requirement already satisfied: filelock in /usr/local/lib/python3.10/dist-packages (from huggingface-hub>=0.4.0->sentence_transformers) (3.12.0)\n",
            "Requirement already satisfied: fsspec in /usr/local/lib/python3.10/dist-packages (from huggingface-hub>=0.4.0->sentence_transformers) (2023.4.0)\n",
            "Requirement already satisfied: requests in /usr/local/lib/python3.10/dist-packages (from huggingface-hub>=0.4.0->sentence_transformers) (2.27.1)\n",
            "Requirement already satisfied: pyyaml>=5.1 in /usr/local/lib/python3.10/dist-packages (from huggingface-hub>=0.4.0->sentence_transformers) (6.0)\n",
            "Requirement already satisfied: typing-extensions>=3.7.4.3 in /usr/local/lib/python3.10/dist-packages (from huggingface-hub>=0.4.0->sentence_transformers) (4.5.0)\n",
            "Requirement already satisfied: packaging>=20.9 in /usr/local/lib/python3.10/dist-packages (from huggingface-hub>=0.4.0->sentence_transformers) (23.1)\n",
            "Requirement already satisfied: sympy in /usr/local/lib/python3.10/dist-packages (from torch>=1.6.0->sentence_transformers) (1.11.1)\n",
            "Requirement already satisfied: networkx in /usr/local/lib/python3.10/dist-packages (from torch>=1.6.0->sentence_transformers) (3.1)\n",
            "Requirement already satisfied: jinja2 in /usr/local/lib/python3.10/dist-packages (from torch>=1.6.0->sentence_transformers) (3.1.2)\n",
            "Requirement already satisfied: triton==2.0.0 in /usr/local/lib/python3.10/dist-packages (from torch>=1.6.0->sentence_transformers) (2.0.0)\n",
            "Requirement already satisfied: cmake in /usr/local/lib/python3.10/dist-packages (from triton==2.0.0->torch>=1.6.0->sentence_transformers) (3.25.2)\n",
            "Requirement already satisfied: lit in /usr/local/lib/python3.10/dist-packages (from triton==2.0.0->torch>=1.6.0->sentence_transformers) (16.0.5)\n",
            "Requirement already satisfied: regex!=2019.12.17 in /usr/local/lib/python3.10/dist-packages (from transformers<5.0.0,>=4.6.0->sentence_transformers) (2022.10.31)\n",
            "Requirement already satisfied: tokenizers!=0.11.3,<0.14,>=0.11.1 in /usr/local/lib/python3.10/dist-packages (from transformers<5.0.0,>=4.6.0->sentence_transformers) (0.13.3)\n",
            "Requirement already satisfied: click in /usr/local/lib/python3.10/dist-packages (from nltk->sentence_transformers) (8.1.3)\n",
            "Requirement already satisfied: joblib in /usr/local/lib/python3.10/dist-packages (from nltk->sentence_transformers) (1.2.0)\n",
            "Requirement already satisfied: threadpoolctl>=2.0.0 in /usr/local/lib/python3.10/dist-packages (from scikit-learn->sentence_transformers) (3.1.0)\n",
            "Requirement already satisfied: pillow!=8.3.*,>=5.3.0 in /usr/local/lib/python3.10/dist-packages (from torchvision->sentence_transformers) (8.4.0)\n",
            "Requirement already satisfied: MarkupSafe>=2.0 in /usr/local/lib/python3.10/dist-packages (from jinja2->torch>=1.6.0->sentence_transformers) (2.1.2)\n",
            "Requirement already satisfied: urllib3<1.27,>=1.21.1 in /usr/local/lib/python3.10/dist-packages (from requests->huggingface-hub>=0.4.0->sentence_transformers) (1.26.15)\n",
            "Requirement already satisfied: certifi>=2017.4.17 in /usr/local/lib/python3.10/dist-packages (from requests->huggingface-hub>=0.4.0->sentence_transformers) (2022.12.7)\n",
            "Requirement already satisfied: charset-normalizer~=2.0.0 in /usr/local/lib/python3.10/dist-packages (from requests->huggingface-hub>=0.4.0->sentence_transformers) (2.0.12)\n",
            "Requirement already satisfied: idna<4,>=2.5 in /usr/local/lib/python3.10/dist-packages (from requests->huggingface-hub>=0.4.0->sentence_transformers) (3.4)\n",
            "Requirement already satisfied: mpmath>=0.19 in /usr/local/lib/python3.10/dist-packages (from sympy->torch>=1.6.0->sentence_transformers) (1.3.0)\n"
          ]
        }
      ],
      "source": [
        "!pip install emoji==0.6.0\n",
        "!pip install transformers\n",
        "!pip install soynlp\n",
        "!pip install pytorch_lightning\n",
        "!pip install sentence_transformers"
      ]
    },
    {
      "cell_type": "code",
      "execution_count": 2,
      "metadata": {
        "id": "Ja2Krn-DNXGY"
      },
      "outputs": [],
      "source": [
        "import transformers\n",
        "import emoji\n",
        "import soynlp\n",
        "import pytorch_lightning"
      ]
    },
    {
      "cell_type": "code",
      "execution_count": 3,
      "metadata": {
        "id": "mHIJx8sJNXGY"
      },
      "outputs": [],
      "source": [
        "import os\n",
        "import pandas as pd\n",
        "import numpy as np\n",
        "\n",
        "from pprint import pprint\n",
        "\n",
        "import torch\n",
        "from torch.utils.data import Dataset, DataLoader, TensorDataset\n",
        "from torch.optim.lr_scheduler import ExponentialLR\n",
        "\n",
        "from pytorch_lightning import LightningModule, Trainer, seed_everything\n",
        "\n",
        "from transformers import AutoModelForSequenceClassification, AutoTokenizer, AdamW\n",
        "\n",
        "from sklearn.metrics import accuracy_score, precision_score, recall_score, f1_score\n",
        "\n",
        "import re\n",
        "import emoji\n",
        "from soynlp.normalizer import repeat_normalize"
      ]
    },
    {
      "cell_type": "code",
      "source": [
        "import pandas as pd\n",
        "import torch\n",
        "import re\n",
        "import emoji\n",
        "\n",
        "from torch.utils.data import Dataset, DataLoader, TensorDataset\n",
        "from torch.optim.lr_scheduler import ExponentialLR\n",
        "from pytorch_lightning import LightningModule, Trainer, seed_everything\n",
        "from transformers import AutoModelForSequenceClassification, AutoTokenizer, AdamW\n",
        "from sklearn.metrics import accuracy_score, precision_score, recall_score, f1_score\n",
        "\n",
        "from soynlp.normalizer import repeat_normalize\n",
        "\n",
        "\n",
        "from pytorch_lightning.utilities.types import EVAL_DATALOADERS\n",
        "\n",
        "class Model(LightningModule):\n",
        "\n",
        "    def __init__(self, **kwargs):\n",
        "        super().__init__()\n",
        "        self.save_hyperparameters()\n",
        "\n",
        "        self.training_step_outputs = []\n",
        "        self.validation_step_outputs = []\n",
        "\n",
        "        self.training_outputs = []\n",
        "        self.validation_outputs = []\n",
        "        self.training_loss = []\n",
        "        self.validation_loss = []\n",
        "\n",
        "        self.clsfier = AutoModelForSequenceClassification.from_pretrained(self.hparams.pretrained_model, num_labels=4)\n",
        "        self.tokenizer = AutoTokenizer.from_pretrained(\n",
        "            self.hparams.pretrained_tokenizer\n",
        "            if self.hparams.pretrained_tokenizer\n",
        "            else self.hparams.pretrained_model\n",
        "        )\n",
        "\n",
        "    def forward(self, **kwargs):\n",
        "        return self.clsfier(**kwargs)\n",
        "    \n",
        "    def step(self, batch, batch_idx):\n",
        "        data, labels = batch\n",
        "        output = self(input_ids=data, labels=labels)\n",
        "\n",
        "        loss = output.loss\n",
        "        logits = output.logits\n",
        "\n",
        "        preds = logits.argmax(dim=-1)\n",
        "\n",
        "        y_true = list(labels.cpu().numpy())\n",
        "        y_pred = list(preds.cpu().numpy())\n",
        "\n",
        "        return {\n",
        "            'loss': loss,\n",
        "            'y_true': y_true,\n",
        "            'y_pred': y_pred\n",
        "        }\n",
        "    \n",
        "    def training_step(self, batch, batch_idx):\n",
        "        \n",
        "        ret = self.step(batch, batch_idx)\n",
        "        self.training_step_outputs.append(ret)\n",
        "        return ret\n",
        "    \n",
        "    def validation_step(self, batch, batch_idx):\n",
        "        \n",
        "        ret = self.step(batch, batch_idx)\n",
        "        self.validation_step_outputs.append(ret)\n",
        "        return ret\n",
        "\n",
        "    def epoch_end(self, outputs, state='train'):\n",
        "        loss = torch.tensor(0, dtype=torch.float)\n",
        "        if state=='val': print(outputs)\n",
        "        for i in outputs:\n",
        "            loss += i['loss'].cpu().detach()\n",
        "        loss = loss / len(outputs)\n",
        "\n",
        "        y_true = []\n",
        "        y_pred = []\n",
        "        for i in outputs:\n",
        "            y_true += i['y_true']\n",
        "            y_pred += i['y_pred']\n",
        "\n",
        "        acc = accuracy_score(y_true, y_pred)\n",
        "        prec = precision_score(y_true, y_pred, average='macro')\n",
        "        rec = recall_score(y_true, y_pred, average='macro')\n",
        "        f1 = f1_score(y_true, y_pred, average='macro')\n",
        "\n",
        "        if state =='train':\n",
        "          self.training_outputs.append({'acc': acc, 'prec': prec, 'rec': rec, 'f1': f1})\n",
        "          self.training_loss.append(loss)\n",
        "        elif state == 'val':\n",
        "          self.validation_outputs.append({'acc': acc, 'prec': prec, 'rec': rec, 'f1': f1})\n",
        "          self.validation_loss.append(loss)\n",
        "\n",
        "        self.log(state+'_loss', float(loss), on_epoch=True, prog_bar=True)\n",
        "        self.log(state+'_acc', acc, on_epoch=True, prog_bar=True)\n",
        "        self.log(state+'_precision', prec, on_epoch=True, prog_bar=True)\n",
        "        self.log(state+'_recall', rec, on_epoch=True, prog_bar=True)\n",
        "        self.log(state+'_f1', f1, on_epoch=True, prog_bar=True)\n",
        "        print(f'[Epoch {self.trainer.current_epoch} {state.upper()}] Loss: {loss}, Acc: {acc}, Prec: {prec}, Rec: {rec}, F1: {f1}')\n",
        "        return {'loss': loss}     \n",
        "\n",
        "    def on_train_epoch_end(self): # fix\n",
        "        self.epoch_end(self.training_step_outputs, state='train')\n",
        "        self.training_step_outputs.clear()\n",
        "\n",
        "    def on_validation_epoch_end(self): # fix\n",
        "        self.epoch_end(self.validation_step_outputs, state='val')   \n",
        "        self.validation_step_outputs.clear()\n",
        "\n",
        "    def configure_optimizers(self):\n",
        "        if self.hparams.optimizer == 'AdamW':\n",
        "            optimizer = AdamW(self.parameters(), lr=self.hparams.lr)\n",
        "        elif self.hparams.optimizer == 'AdamP':\n",
        "            from adamp import AdamP\n",
        "            optimizer = AdamP(self.parameters(), lr=self.hparams.lr)\n",
        "        else:\n",
        "            raise NotImplementedError('Only AdamW and AdamP is Supported!')\n",
        "        if self.hparams.lr_scheduler == 'cos':\n",
        "            scheduler = CosineAnnealingWarmRestarts(optimizer, T_0=1, T_mult=2)\n",
        "        elif self.hparams.lr_scheduler == 'exp':\n",
        "            scheduler = ExponentialLR(optimizer, gamma=0.5)\n",
        "        else:\n",
        "            raise NotImplementedError('Only cos and exp lr scheduler is Supported!')\n",
        "        return {\n",
        "            'optimizer': optimizer,\n",
        "            'scheduler': scheduler,\n",
        "        }\n",
        "    \n",
        "    def read_data(self, path):\n",
        "        if path.endswith('xlsx'):\n",
        "            return pd.read_excel(path)\n",
        "        elif path.endswith('csv'):\n",
        "            return pd.read_csv(path)\n",
        "        elif path.endswith('tsv') or path.endswith('txt'):\n",
        "            return pd.read_csv(path, sep='\\t')\n",
        "        else:\n",
        "            raise NotImplementedError('Only Excel(xlsx)/Csv/Tsv(txt) are Supported')\n",
        "        \n",
        "    def clean(self, x):\n",
        "        emojis = ''.join(emoji.UNICODE_EMOJI.keys())\n",
        "        pattern = re.compile(f'[^ .,?!/@$%~％·∼()\\x00-\\x7Fㄱ-힣{emojis}]+')\n",
        "        url_pattern = re.compile(\n",
        "            r'https?:\\/\\/(www\\.)?[-a-zA-Z0-9@:%._\\+~#=]{1,256}\\.[a-zA-Z0-9()]{1,6}\\b([-a-zA-Z0-9()@:%_\\+.~#?&//=]*)')\n",
        "        x = pattern.sub(' ', x)\n",
        "        x = url_pattern.sub('', x)\n",
        "        x = x.strip()\n",
        "        x = repeat_normalize(x, num_repeats=2)\n",
        "        return x\n",
        "\n",
        "    def encode(self, x, **kwargs):\n",
        "        return self.tokenizer.encode(\n",
        "            self.clean(str(x)),\n",
        "            padding='max_length',\n",
        "            max_length = self.hparams.max_length,\n",
        "            truncation=True,\n",
        "            **kwargs,\n",
        "        )\n",
        "    \n",
        "    def preprocess_dataframe(self, df):\n",
        "        df['sentence'] = df['sentence'].map(self.encode)\n",
        "        return df\n",
        "    \n",
        "    def dataloader(self, path, shuffle=False):\n",
        "        df = self.read_data(path)\n",
        "        df = self.preprocess_dataframe(df)\n",
        "\n",
        "        dataset = TensorDataset(\n",
        "            torch.tensor(df['sentence'].to_list(), dtype=torch.long),\n",
        "            torch.tensor(df['label'].to_list(), dtype=torch.long)\n",
        "        )\n",
        "        return DataLoader(\n",
        "            dataset,\n",
        "            batch_size=self.hparams.batch_size * 1 if not self.hparams.tpu_cores else self.hparams.tpu_cores,\n",
        "            shuffle=shuffle,\n",
        "            num_workers=self.hparams.cpu_workers\n",
        "        )\n",
        "    \n",
        "    def train_dataloader(self):\n",
        "        return self.dataloader(self.hparams.train_data_path, shuffle=True)\n",
        "    \n",
        "    def val_dataloader(self):\n",
        "        return self.dataloader(self.hparams.val_data_path, shuffle=True)\n",
        "\n",
        "    def test_dataloader(self):\n",
        "        return self.dataloader(self.hparams.test_data_path, shuffle=True)"
      ],
      "metadata": {
        "id": "ajCERsa-Rubu"
      },
      "execution_count": 4,
      "outputs": []
    },
    {
      "cell_type": "code",
      "source": [
        "import torch\n",
        "\n",
        "def infer(model, x):\n",
        "\n",
        "    x_tokens = model.tokenizer(x, return_tensors='pt')\n",
        "    x_tokens = x_tokens.to('cuda')\n",
        "\n",
        "    return torch.softmax(\n",
        "        model(**x_tokens\n",
        "    ).logits, dim=-1)"
      ],
      "metadata": {
        "id": "uXbj4cuDR1-G"
      },
      "execution_count": 5,
      "outputs": []
    },
    {
      "cell_type": "code",
      "source": [
        "import pandas as pd\n",
        "import numpy as np\n",
        "\n",
        "def load_dataset(path):\n",
        "\n",
        "    df = pd.read_csv(path, sep='\\t')\n",
        "\n",
        "    train_sentence = df['sentence']\n",
        "    train_emotion = df['emotion']\n",
        "    train_label = df['label']\n",
        "\n",
        "    return train_sentence.to_numpy(), train_emotion.to_numpy(), train_label.to_numpy()\n",
        "\n",
        "\n",
        "def idx2emoticon(path):\n",
        "    newdic = dict()\n",
        "    with open(path,'r') as f:\n",
        "        while True:\n",
        "            line = f.readline()\n",
        "            if not line : break\n",
        "            newdic[int(line.split(':')[0])] = line.split(':')[1][:-1]\n",
        "    return newdic\n",
        "\n",
        "\n",
        "def emoticon2idx(path):\n",
        "    newdic = dict()\n",
        "    with open(path,'r') as f:\n",
        "        while True:\n",
        "            line = f.readline()\n",
        "            if not line : break\n",
        "            newdic[line.split(':')[0]] = line.split(':')[1][:-1]\n",
        "    return newdic\n",
        "\n",
        "\n",
        "def convert_sentence_emotion(model, emotion, sentence):\n",
        "\n",
        "    sentence_vector = []\n",
        "\n",
        "    sentence = model.encode(sentence)\n",
        "\n",
        "    for idx in range(len(sentence)):\n",
        "\n",
        "        emotion_label = emotion[idx]\n",
        "        distance = np.sqrt(np.sum(sentence[idx]**2))\n",
        "        sentence[idx] /= distance\n",
        "\n",
        "        tmp_vector = np.array([0, 0, 0, 0])\n",
        "        tmp_vector = np.append(tmp_vector, sentence[idx])\n",
        "        tmp_vector[emotion_label] = 1\n",
        "        sentence_vector.append(tmp_vector)\n",
        "\n",
        "    return sentence_vector\n",
        "\n",
        "\n",
        "def add_emotion(model, weight, emotion, sentence):\n",
        "\n",
        "    sentence = model.encode(sentence)\n",
        "\n",
        "    distance = np.sqrt(np.sum(sentence**2))\n",
        "    sentence /= distance\n",
        "\n",
        "    emo_distance = np.sqrt(np.sum(emotion**2))\n",
        "    emo_added = np.append(weight*emotion/emo_distance, sentence)"
      ],
      "metadata": {
        "id": "QJ6s2V4fR4LY"
      },
      "execution_count": 6,
      "outputs": []
    },
    {
      "cell_type": "code",
      "source": [
        "class Recommend:\n",
        "    def __init__(self, sentence_model, emotion_model, train_data, idx2emoticon):\n",
        "        self.sen_model = sentence_model\n",
        "        self.emo_model = emotion_model\n",
        "        self.train_sen   = train_data[0]\n",
        "        self.train_emo   = train_data[1]\n",
        "        self.train_label = train_data[2]\n",
        "        self.idx2emoticon = idx2emoticon\n",
        "        self.train_vector = self.convert_sentence_emotion(self.sen_model, self.train_emo, self.train_sen)\n",
        "        self.train_norm = np.linalg.norm(self.train_vector)\n",
        "        self.input = None\n",
        "        self.emotion_weight = None\n",
        "\n",
        "    def convert_sentence_emotion(self, sen_model, emotion, sentence):\n",
        "        sentence_vector = []\n",
        "        sentence = sen_model.encode(sentence)\n",
        "        for idx in range(len(sentence)):\n",
        "            emotion_label = emotion[idx] #0,1,2,3\n",
        "            distance = np.sqrt(np.mean(sentence[idx]**2))\n",
        "            sentence[idx] /= distance\n",
        "            tmp_vector = np.array([0, 0, 0, 0])\n",
        "            tmp_vector = np.append(tmp_vector, sentence[idx])\n",
        "            tmp_vector[emotion_label] = 1\n",
        "            sentence_vector.append(tmp_vector)\n",
        "\n",
        "        return np.array(sentence_vector)\n",
        "\n",
        "    def infer(self, x):\n",
        "        x_tokens = self.emo_model.tokenizer(x, return_tensors='pt')\n",
        "        x_tokens = x_tokens.to('cuda')\n",
        "        return torch.softmax(self.emo_model(**x_tokens).logits, dim=-1)\n",
        "\n",
        "    def add_emotion(self, emotion, sentence, weight):\n",
        "        sentence = self.sen_model.encode(sentence)\n",
        "        distance = np.sqrt(np.sum(sentence**2))\n",
        "        sentence /= distance\n",
        "\n",
        "        emo_distance = np.sqrt(np.sum(emotion**2))\n",
        "        emo_added = np.append(weight*emotion/emo_distance, sentence)\n",
        "\n",
        "        return emo_added\n",
        "\n",
        "    def recommend(self, input_sentence, emotion_weight = 1, threshold = 2, recommend_num = 5): #threshold must be located 1 to 5\n",
        "        sentence_emotion = self.infer(input_sentence).cpu().detach().numpy() #emotion analysis\n",
        "        input_vector = self.add_emotion(sentence_emotion, input_sentence, emotion_weight).reshape(-1,1)\n",
        "        input_norm = np.linalg.norm(input_vector)\n",
        "        cos_sim = np.dot(self.train_vector, input_vector).squeeze()\n",
        "        rank_index = np.argsort(cos_sim)[::-1]\n",
        "        recommendation = []\n",
        "        selected = {idx : 0 for idx, _ in self.idx2emoticon.items()}\n",
        "        for r in rank_index:\n",
        "            emoticon = self.train_label[r]\n",
        "            selected[emoticon] += 1\n",
        "            if selected[emoticon] == threshold:\n",
        "                recommendation.append(emoticon)\n",
        "\n",
        "        result =[]\n",
        "        for i in range(recommend_num):\n",
        "            # print('Rank{} recommended emoticon: {}'.format(i+1, self.idx2emoticon[recommendation[i]]))\n",
        "            result.append(self.idx2emoticon[recommendation[i]])\n",
        "        return result"
      ],
      "metadata": {
        "id": "opxibDZi6Mf2"
      },
      "execution_count": 7,
      "outputs": []
    },
    {
      "cell_type": "code",
      "execution_count": 8,
      "metadata": {
        "id": "KxzXyFpsNXGZ"
      },
      "outputs": [],
      "source": [
        "from sentence_transformers import SentenceTransformer, util\n",
        "\n",
        "from sklearn.datasets import make_classification\n",
        "from sklearn.metrics.pairwise import cosine_similarity\n",
        "from sklearn.neighbors import KNeighborsClassifier"
      ]
    },
    {
      "cell_type": "code",
      "execution_count": 9,
      "metadata": {
        "colab": {
          "base_uri": "https://localhost:8080/"
        },
        "id": "_Cmw-jzJNupB",
        "outputId": "e6589cd7-eefe-444c-e684-b35e6d07e0ca"
      },
      "outputs": [
        {
          "output_type": "stream",
          "name": "stdout",
          "text": [
            "Drive already mounted at /content/drive; to attempt to forcibly remount, call drive.mount(\"/content/drive\", force_remount=True).\n"
          ]
        }
      ],
      "source": [
        "from google.colab import drive\n",
        "drive.mount('/content/drive')"
      ]
    },
    {
      "cell_type": "code",
      "execution_count": 10,
      "metadata": {
        "id": "k4a3JWSBNXGZ"
      },
      "outputs": [],
      "source": [
        "emotion_model_path = '/content/drive/MyDrive/Colab Notebooks/ai project/epoch5-val_acc0.7318.ckpt'\n",
        "sentence_model_path = 'snunlp/KR-SBERT-V40K-klueNLI-augSTS'\n",
        "emoticon_sentence_path = '/content/drive/MyDrive/Colab Notebooks/ai project/myticon/dataset/sentence_emoticon.txt'\n",
        "idx2emoticon_path = '/content/drive/MyDrive/Colab Notebooks/ai project/myticon/dataset/idx2emoticon.txt'\n",
        "emoticon2idx_path = '/content/drive/MyDrive/Colab Notebooks/ai project/myticon/dataset/emoticon2idx.txt'"
      ]
    },
    {
      "cell_type": "code",
      "execution_count": 11,
      "metadata": {
        "id": "Wdke6YrGNXGZ"
      },
      "outputs": [],
      "source": [
        "idx2emoticon = idx2emoticon(idx2emoticon_path)\n",
        "emoticon2idx = emoticon2idx(emoticon2idx_path)"
      ]
    },
    {
      "cell_type": "code",
      "execution_count": 12,
      "metadata": {
        "colab": {
          "base_uri": "https://localhost:8080/"
        },
        "id": "O4wYRq_XNXGa",
        "outputId": "593aae61-f4f5-4bcc-d378-56bed374a328"
      },
      "outputs": [
        {
          "output_type": "stream",
          "name": "stderr",
          "text": [
            "Some weights of the model checkpoint at beomi/KcELECTRA-base were not used when initializing ElectraForSequenceClassification: ['discriminator_predictions.dense.weight', 'discriminator_predictions.dense.bias', 'discriminator_predictions.dense_prediction.bias', 'discriminator_predictions.dense_prediction.weight']\n",
            "- This IS expected if you are initializing ElectraForSequenceClassification from the checkpoint of a model trained on another task or with another architecture (e.g. initializing a BertForSequenceClassification model from a BertForPreTraining model).\n",
            "- This IS NOT expected if you are initializing ElectraForSequenceClassification from the checkpoint of a model that you expect to be exactly identical (initializing a BertForSequenceClassification model from a BertForSequenceClassification model).\n",
            "Some weights of ElectraForSequenceClassification were not initialized from the model checkpoint at beomi/KcELECTRA-base and are newly initialized: ['classifier.dense.weight', 'classifier.out_proj.weight', 'classifier.dense.bias', 'classifier.out_proj.bias']\n",
            "You should probably TRAIN this model on a down-stream task to be able to use it for predictions and inference.\n"
          ]
        }
      ],
      "source": [
        "emotion_model = Model.load_from_checkpoint(emotion_model_path)"
      ]
    },
    {
      "cell_type": "code",
      "execution_count": 13,
      "metadata": {
        "id": "JgTaSHTXNXGa"
      },
      "outputs": [],
      "source": [
        "sentence_model = SentenceTransformer(sentence_model_path)"
      ]
    },
    {
      "cell_type": "code",
      "execution_count": 14,
      "metadata": {
        "id": "JOSKLqPBStPV"
      },
      "outputs": [],
      "source": [
        "train_sentences, train_emotions, train_labels = load_dataset(emoticon_sentence_path)\n",
        "# train_sentences = convert_sentence_emotion(sentence_model, train_emotions, train_sentences)"
      ]
    },
    {
      "cell_type": "code",
      "source": [
        "train = (train_sentences, train_emotions, train_labels)\n",
        "model = Recommend(sentence_model, emotion_model ,train, idx2emoticon)\n",
        "emoticon_list = model.recommend(input_sentence=['귀여운 강아지'], emotion_weight=1, threshold=3, recommend_num=10)\n",
        "emoticon_list"
      ],
      "metadata": {
        "colab": {
          "base_uri": "https://localhost:8080/"
        },
        "id": "Vekfo-ka7GFy",
        "outputId": "118627c6-2715-4097-cbd5-54fd562e4ec6"
      },
      "execution_count": 15,
      "outputs": [
        {
          "output_type": "execute_result",
          "data": {
            "text/plain": [
              "['♡(ᐢ ᴥ ᐢし)',\n",
              " '₍ᐢ ›_‹ ᐢ₎',\n",
              " '૮ ◞ ﻌ ◟ ა',\n",
              " '꒳•͈ ﻌ •͈꒳',\n",
              " 'ฅ(≈ȏ ﻌ ȏ≈)ฅ',\n",
              " '*.☆⸜(⑉˙ᗜ˙⑉)⸝♡.*',\n",
              " '(͒˶´⚇`˵)͒',\n",
              " 'o(〃＾▽＾〃)o',\n",
              " 'ε=ε=(⊃≧□≦)⊃',\n",
              " '✧*.◟(ˊᗨˋ)◞.*✧']"
            ]
          },
          "metadata": {},
          "execution_count": 15
        }
      ]
    },
    {
      "cell_type": "markdown",
      "source": [
        "#Hit ratio\n",
        "#{'슬픔':0, '당황':1, '기쁨':2, '분노':3}"
      ],
      "metadata": {
        "id": "4tRRhP2EI2bx"
      }
    },
    {
      "cell_type": "code",
      "source": [
        "test = pd.read_csv('/content/drive/MyDrive/Colab Notebooks/ai project/dataset/cus_test.csv')\n",
        "test['label'].value_counts()"
      ],
      "metadata": {
        "colab": {
          "base_uri": "https://localhost:8080/"
        },
        "id": "XDpudtN2I50H",
        "outputId": "d7f4165c-859c-4763-9b52-fecb9d84f03d"
      },
      "execution_count": 16,
      "outputs": [
        {
          "output_type": "execute_result",
          "data": {
            "text/plain": [
              "1    2325\n",
              "3    2195\n",
              "0    2137\n",
              "2    2023\n",
              "Name: label, dtype: int64"
            ]
          },
          "metadata": {},
          "execution_count": 16
        }
      ]
    },
    {
      "cell_type": "code",
      "source": [
        "num=5000"
      ],
      "metadata": {
        "id": "sE6gao1QLyzz"
      },
      "execution_count": 17,
      "outputs": []
    },
    {
      "cell_type": "code",
      "source": [
        "sen_list = list(test['sentence'].head(num))"
      ],
      "metadata": {
        "id": "TzvAcGHCJAxT"
      },
      "execution_count": 18,
      "outputs": []
    },
    {
      "cell_type": "code",
      "source": [
        "label_list = list(test['label'].head(num))"
      ],
      "metadata": {
        "id": "YuJuBl2oLsLs"
      },
      "execution_count": 19,
      "outputs": []
    },
    {
      "cell_type": "code",
      "source": [
        "def find_weight(weight_list,use_model=True):\n",
        "\n",
        "  weight_result_list=[]\n",
        "  weight_result=0\n",
        "  for weight in weight_list:\n",
        "    result_list=[]\n",
        "    for idx, sen in enumerate(sen_list):\n",
        "      try:\n",
        "        # 추천된 이모티콘 리스트\n",
        "        emoticon_list = model.recommend(input_sentence=[sen], emotion_weight=weight, threshold=3, recommend_num=10)\n",
        "\n",
        "        # input sentence의 감정\n",
        "        input_emot=None\n",
        "        if use_model:\n",
        "          input_emot = infer(emotion_model, sen)\n",
        "          input_emot = int(np.argmax(input_emot.cpu().detach()))\n",
        "        else:\n",
        "          input_emot = label_list[idx]\n",
        "\n",
        "        count =0\n",
        "        # print(input_emot,sen)\n",
        "        for emoticon in emoticon_list:\n",
        "          # print(emoticon)\n",
        "          idx = int(emoticon2idx[emoticon])\n",
        "          emoticon_emot = train_emotions[list(train_labels).index(idx)]\n",
        "          # print(emoticon_emot,emoticon)\n",
        "          if emoticon_emot == input_emot:\n",
        "            count = count+1\n",
        "        result = count/len(emoticon_list)\n",
        "        result_list.append(result)\n",
        "      except:\n",
        "        pass\n",
        "    weight_result = sum(result_list)/len(result_list)\n",
        "    weight_result_list.append(weight_result)\n",
        "  return weight_result_list\n",
        "  \n",
        "  "
      ],
      "metadata": {
        "id": "dJzmF-Q0JJM9"
      },
      "execution_count": 20,
      "outputs": []
    },
    {
      "cell_type": "code",
      "source": [
        "weight_list=[x for x in range(0,20,5)]\n",
        "y_value = find_weight(weight_list,False)\n",
        "y_value2 = find_weight(weight_list,True)"
      ],
      "metadata": {
        "id": "Car6jUT1UEam"
      },
      "execution_count": 21,
      "outputs": []
    },
    {
      "cell_type": "code",
      "source": [
        "y_value"
      ],
      "metadata": {
        "colab": {
          "base_uri": "https://localhost:8080/"
        },
        "id": "KjsWgPnnAUzc",
        "outputId": "f1fe5f01-cb7d-40db-e8de-1154f972bc88"
      },
      "execution_count": 22,
      "outputs": [
        {
          "output_type": "execute_result",
          "data": {
            "text/plain": [
              "[0.47280177187153694,\n",
              " 0.6885147190008937,\n",
              " 0.696339285714286,\n",
              " 0.6960071380771805]"
            ]
          },
          "metadata": {},
          "execution_count": 22
        }
      ]
    },
    {
      "cell_type": "code",
      "source": [
        "y_value2"
      ],
      "metadata": {
        "colab": {
          "base_uri": "https://localhost:8080/"
        },
        "id": "2BzqGQmkej1B",
        "outputId": "c1a644aa-7523-4ed1-a112-4383bc6576f8"
      },
      "execution_count": 23,
      "outputs": [
        {
          "output_type": "execute_result",
          "data": {
            "text/plain": [
              "[0.49499446290143806, 0.913581623550408, 0.9620535714285731, 0.974570600044614]"
            ]
          },
          "metadata": {},
          "execution_count": 23
        }
      ]
    },
    {
      "cell_type": "code",
      "source": [
        "from matplotlib import pyplot as plt\n",
        "\n",
        "plt.plot(weight_list,y_value)\n",
        "plt.plot(weight_list,y_value2)\n",
        "\n",
        "plt.title('Hit Ratio : finding optimal emotion weight(5000 test_data)')\n",
        "plt.xlabel('emotion weight')\n",
        "plt.ylabel('hit ratio')\n",
        "\n",
        "plt.legend(['true_value','predicted value'])\n",
        "\n",
        "plt.show()"
      ],
      "metadata": {
        "colab": {
          "base_uri": "https://localhost:8080/",
          "height": 472
        },
        "id": "y_DzMsJPU1yL",
        "outputId": "76d62533-f81d-49ab-bae1-e45d0ce86008"
      },
      "execution_count": 24,
      "outputs": [
        {
          "output_type": "display_data",
          "data": {
            "text/plain": [
              "<Figure size 640x480 with 1 Axes>"
            ],
            "image/png": "[encoded data removed]"
          },
          "metadata": {}
        }
      ]
    },
    {
      "cell_type": "code",
      "source": [
        "# sum(result_list)/len(result_list)\n",
        "\n",
        "# emotion weight 200 sample\n",
        "# 0  0.48595505617977514\n",
        "# 5  0.8339999999999997\n",
        "# 10 0.885\n",
        "# 15 0.9642458100558658\n",
        "\n",
        "# with true value\n",
        "# 0   0.45112359550561787\n",
        "# 5   0.5995\n",
        "# 10  0.6527777777777778\n",
        "# 15  0.6536312849162011"
      ],
      "metadata": {
        "colab": {
          "base_uri": "https://localhost:8080/"
        },
        "id": "Yk9OmF2-NvKG",
        "outputId": "a36f3029-217e-441f-eb14-2a27a8571a65"
      },
      "execution_count": 107,
      "outputs": [
        {
          "output_type": "execute_result",
          "data": {
            "text/plain": [
              "0.45112359550561787"
            ]
          },
          "metadata": {},
          "execution_count": 107
        }
      ]
    }
  ],
  "metadata": {
    "accelerator": "GPU",
    "colab": {
      "gpuType": "T4",
      "provenance": []
    },
    "gpuClass": "standard",
    "kernelspec": {
      "display_name": "base",
      "language": "python",
      "name": "python3"
    },
    "language_info": {
      "codemirror_mode": {
        "name": "ipython",
        "version": 3
      },
      "file_extension": ".py",
      "mimetype": "text/x-python",
      "name": "python",
      "nbconvert_exporter": "python",
      "pygments_lexer": "ipython3",
      "version": "3.9.13"
    },
    "orig_nbformat": 4
  },
  "nbformat": 4,
  "nbformat_minor": 0
}